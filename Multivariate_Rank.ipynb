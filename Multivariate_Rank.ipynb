{
  "nbformat": 4,
  "nbformat_minor": 0,
  "metadata": {
    "colab": {
      "provenance": [],
      "authorship_tag": "ABX9TyMXXZxKigbMCBJICYtmRilh",
      "include_colab_link": true
    },
    "kernelspec": {
      "name": "python3",
      "display_name": "Python 3"
    },
    "language_info": {
      "name": "python"
    }
  },
  "cells": [
    {
      "cell_type": "markdown",
      "metadata": {
        "id": "view-in-github",
        "colab_type": "text"
      },
      "source": [
        "<a href=\"https://colab.research.google.com/github/BehrangEbrahimi13/Repo_Paper_01/blob/Multivariate_Rank/Multivariate_Rank.ipynb\" target=\"_parent\"><img src=\"https://colab.research.google.com/assets/colab-badge.svg\" alt=\"Open In Colab\"/></a>"
      ]
    },
    {
      "cell_type": "code",
      "execution_count": null,
      "metadata": {
        "id": "AU0vH7obot-5"
      },
      "outputs": [],
      "source": [
        "import numpy as np\n",
        "from sklearn.feature_selection import SelectKBest\n",
        "\n",
        "# Assume we have a dataset X with multiple features and y as the target variable\n",
        "\n",
        "# Generate a sample dataset\n",
        "np.random.seed(0)\n",
        "X = np.random.rand(100, 5)  # Example dataset with 100 samples and 5 features\n",
        "y = np.random.randint(0, 2, 100)  # Random target variable (binary classification)\n",
        "\n",
        "# Initialize the SelectKBest algorithm with the desired number of features\n",
        "k = 3\n",
        "selector = SelectKBest(k='all')  # Select all features with their respective scores\n",
        "\n",
        "# Fit the selector to the data\n",
        "selector.fit(X, y)\n",
        "\n",
        "# Get the ranks of the features\n",
        "feature_ranks = selector.scores_\n",
        "\n",
        "# Print the ranks of the features\n",
        "for i, rank in enumerate(feature_ranks):\n",
        "    print(f\"Feature {i+1}: {rank}\")"
      ]
    }
  ]
}