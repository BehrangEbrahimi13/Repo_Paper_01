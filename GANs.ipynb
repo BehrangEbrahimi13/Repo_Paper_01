{
  "cells": [
    {
      "cell_type": "markdown",
      "metadata": {
        "id": "view-in-github",
        "colab_type": "text"
      },
      "source": [
        "<a href=\"https://colab.research.google.com/github/BehrangEbrahimi13/Repo_Paper_01/blob/GAN-experiments/GANs.ipynb\" target=\"_parent\"><img src=\"https://colab.research.google.com/assets/colab-badge.svg\" alt=\"Open In Colab\"/></a>"
      ]
    },
    {
      "cell_type": "code",
      "execution_count": null,
      "id": "b30a110a",
      "metadata": {
        "id": "b30a110a"
      },
      "outputs": [],
      "source": [
        "from google.colab import drive\n",
        "drive.mount('/content/drive')\n",
        "\n",
        "import os\n",
        "os.chdir('/content/drive/MyDrive/ColabNotebooks/Papers')"
      ]
    },
    {
      "cell_type": "code",
      "execution_count": null,
      "id": "6695fcb2",
      "metadata": {
        "id": "6695fcb2"
      },
      "outputs": [],
      "source": [
        "import os\n",
        "\n",
        "directory_path = '/content/drive/MyDrive/ColabNotebooks/Papers'\n",
        "\n",
        "# List all files and directories in the specified directory\n",
        "files = os.listdir(directory_path)\n",
        "\n",
        "# Print the list of files and directories\n",
        "for file in files:\n",
        "    print(file)"
      ]
    }
  ],
  "metadata": {
    "colab": {
      "provenance": [],
      "include_colab_link": true
    }
  },
  "nbformat": 4,
  "nbformat_minor": 5
}