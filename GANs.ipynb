{
  "cells": [
    {
      "cell_type": "markdown",
      "metadata": {
        "id": "view-in-github",
        "colab_type": "text"
      },
      "source": [
        "<a href=\"https://colab.research.google.com/github/BehrangEbrahimi13/Repo_Paper_01/blob/GAN-experiments/GANs.ipynb\" target=\"_parent\"><img src=\"https://colab.research.google.com/assets/colab-badge.svg\" alt=\"Open In Colab\"/></a>"
      ]
    },
    {
      "cell_type": "markdown",
      "source": [
        "# Connections"
      ],
      "metadata": {
        "id": "XKBeM1ifysU4"
      },
      "id": "XKBeM1ifysU4"
    },
    {
      "cell_type": "code",
      "execution_count": null,
      "id": "b30a110a",
      "metadata": {
        "id": "b30a110a"
      },
      "outputs": [],
      "source": [
        "from google.colab import drive\n",
        "drive.mount('/content/drive')\n",
        "\n",
        "import os\n",
        "os.chdir('/content/drive/MyDrive/ColabNotebooks/Papers')"
      ]
    },
    {
      "cell_type": "code",
      "execution_count": null,
      "id": "6695fcb2",
      "metadata": {
        "id": "6695fcb2"
      },
      "outputs": [],
      "source": [
        "import os\n",
        "\n",
        "directory_path = '/content/drive/MyDrive/ColabNotebooks/Papers'\n",
        "\n",
        "# List all files and directories in the specified directory\n",
        "files = os.listdir(directory_path)\n",
        "\n",
        "# Print the list of files and directories\n",
        "for file in files:\n",
        "    print(file)"
      ]
    },
    {
      "cell_type": "markdown",
      "source": [
        "# Start implementation"
      ],
      "metadata": {
        "id": "oTY_70zMyvZ4"
      },
      "id": "oTY_70zMyvZ4"
    },
    {
      "cell_type": "code",
      "source": [
        "import torch\n",
        "from torch import nn\n",
        "\n",
        "import math\n",
        "import matplotlib.pyplot as plt\n",
        "\n",
        "\n",
        "torch.manual_seed(111)"
      ],
      "metadata": {
        "colab": {
          "base_uri": "https://localhost:8080/"
        },
        "id": "QhYTU-uhzPiF",
        "outputId": "f3d5744c-2b0b-4b63-9e90-f137d2f0fe24"
      },
      "id": "QhYTU-uhzPiF",
      "execution_count": 1,
      "outputs": [
        {
          "output_type": "execute_result",
          "data": {
            "text/plain": [
              "<torch._C.Generator at 0x7a63c08d7dd0>"
            ]
          },
          "metadata": {},
          "execution_count": 1
        }
      ]
    },
    {
      "cell_type": "markdown",
      "source": [
        "## Preparing the Training Data"
      ],
      "metadata": {
        "id": "PGnzS8Oc0Bve"
      },
      "id": "PGnzS8Oc0Bve"
    },
    {
      "cell_type": "code",
      "source": [
        "# Define the length of the training data,(1024)\n",
        "train_data_length = int(math.pow(2, 10))\n",
        "\n",
        "# Create a tensor of shape (train_data_length, 2) filled with zeros\n",
        "train_data = torch.zeros((train_data_length, 2))\n",
        "\n",
        "# Generate random values between 0 and 2*pi and assign them to the first column of train_data\n",
        "train_data[:, 0] = 2 * math.pi * torch.rand(train_data_length)\n",
        "\n",
        "# Compute the sine of the values in the first column and assign them to the second column of train_data\n",
        "train_data[:, 1] = torch.sin(train_data[:, 0])\n",
        "\n",
        "# Create a tensor of zeros with length train_data_length to represent the labels\n",
        "train_labels = torch.zeros(train_data_length)\n",
        "\n",
        "# Create the training set as a list of tuples, where each tuple contains a data point and its corresponding label\n",
        "train_set = [\n",
        "    (train_data[i], train_labels[i]) for i in range(train_data_length)\n",
        "]"
      ],
      "metadata": {
        "id": "RsNKwOxD0DVP"
      },
      "id": "RsNKwOxD0DVP",
      "execution_count": 16,
      "outputs": []
    },
    {
      "cell_type": "code",
      "source": [
        "plt.plot(train_data[:, 0], train_data[:, 1], \".\")"
      ],
      "metadata": {
        "colab": {
          "base_uri": "https://localhost:8080/",
          "height": 447
        },
        "id": "VQtrM3lA-c6U",
        "outputId": "a893fa39-4143-41f2-eeae-1ce78edd8a41"
      },
      "id": "VQtrM3lA-c6U",
      "execution_count": 25,
      "outputs": [
        {
          "output_type": "execute_result",
          "data": {
            "text/plain": [
              "[<matplotlib.lines.Line2D at 0x7a62e79bb2b0>]"
            ]
          },
          "metadata": {},
          "execution_count": 25
        },
        {
          "output_type": "display_data",
          "data": {
            "text/plain": [
              "<Figure size 640x480 with 1 Axes>"
            ],
            "image/png": "[encoded data removed]"
          },
          "metadata": {}
        }
      ]
    },
    {
      "cell_type": "code",
      "source": [
        "# Set the batch size for training\n",
        "batch_size = 32\n",
        "\n",
        "# Create a data loader for the training set\n",
        "train_loader = torch.utils.data.DataLoader(train_set, batch_size=batch_size, shuffle=True)"
      ],
      "metadata": {
        "id": "jtdwhB2_BcbN"
      },
      "id": "jtdwhB2_BcbN",
      "execution_count": 26,
      "outputs": []
    }
  ],
  "metadata": {
    "colab": {
      "provenance": [],
      "include_colab_link": true
    },
    "language_info": {
      "name": "python"
    },
    "kernelspec": {
      "name": "python3",
      "display_name": "Python 3"
    }
  },
  "nbformat": 4,
  "nbformat_minor": 5
}