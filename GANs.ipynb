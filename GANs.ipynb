{
  "cells": [
    {
      "cell_type": "markdown",
      "metadata": {
        "id": "view-in-github",
        "colab_type": "text"
      },
      "source": [
        "<a href=\"https://colab.research.google.com/github/BehrangEbrahimi13/Repo_Paper_01/blob/GAN-experiments/GANs.ipynb\" target=\"_parent\"><img src=\"https://colab.research.google.com/assets/colab-badge.svg\" alt=\"Open In Colab\"/></a>"
      ]
    },
    {
      "cell_type": "markdown",
      "source": [
        "# Connections"
      ],
      "metadata": {
        "id": "XKBeM1ifysU4"
      },
      "id": "XKBeM1ifysU4"
    },
    {
      "cell_type": "code",
      "execution_count": null,
      "id": "b30a110a",
      "metadata": {
        "id": "b30a110a",
        "colab": {
          "base_uri": "https://localhost:8080/"
        },
        "outputId": "937a7f62-97c0-4eaa-8ebf-4caddd7a8e31"
      },
      "outputs": [
        {
          "output_type": "stream",
          "name": "stdout",
          "text": [
            "Mounted at /content/drive\n"
          ]
        }
      ],
      "source": [
        "from google.colab import drive\n",
        "drive.mount('/content/drive')\n",
        "\n",
        "import os\n",
        "os.chdir('/content/drive/MyDrive/ColabNotebooks/Papers')"
      ]
    },
    {
      "cell_type": "code",
      "execution_count": null,
      "id": "6695fcb2",
      "metadata": {
        "id": "6695fcb2",
        "colab": {
          "base_uri": "https://localhost:8080/"
        },
        "outputId": "22363825-f115-4ad3-b1f0-a33070ec25d9"
      },
      "outputs": [
        {
          "output_type": "stream",
          "name": "stdout",
          "text": [
            "Paper_01\n",
            "Repo_Paper_01\n",
            "Paper_FeatureSelection.ipynb\n",
            "GANs.ipynb\n"
          ]
        }
      ],
      "source": [
        "import os\n",
        "\n",
        "directory_path = '/content/drive/MyDrive/ColabNotebooks/Papers'\n",
        "\n",
        "# List all files and directories in the specified directory\n",
        "files = os.listdir(directory_path)\n",
        "\n",
        "# Print the list of files and directories\n",
        "for file in files:\n",
        "    print(file)"
      ]
    },
    {
      "cell_type": "markdown",
      "source": [
        "# Start implementation For x₂ = sin(x₁)"
      ],
      "metadata": {
        "id": "oTY_70zMyvZ4"
      },
      "id": "oTY_70zMyvZ4"
    },
    {
      "cell_type": "markdown",
      "source": [
        "## Importing the necessary libraries"
      ],
      "metadata": {
        "id": "Q7KRN2xPD9EK"
      },
      "id": "Q7KRN2xPD9EK"
    },
    {
      "cell_type": "code",
      "source": [
        "import torch\n",
        "from torch import nn\n",
        "\n",
        "import math\n",
        "import matplotlib.pyplot as plt\n",
        "\n",
        "# Set the random seed for torch\n",
        "torch.manual_seed(111)"
      ],
      "metadata": {
        "colab": {
          "base_uri": "https://localhost:8080/"
        },
        "id": "QhYTU-uhzPiF",
        "outputId": "ad150c69-a922-4212-c936-06f3740bf29d"
      },
      "id": "QhYTU-uhzPiF",
      "execution_count": null,
      "outputs": [
        {
          "output_type": "execute_result",
          "data": {
            "text/plain": [
              "<torch._C.Generator at 0x7f6181ae3750>"
            ]
          },
          "metadata": {},
          "execution_count": 1
        }
      ]
    },
    {
      "cell_type": "markdown",
      "source": [
        "## Preparing the Training Data"
      ],
      "metadata": {
        "id": "PGnzS8Oc0Bve"
      },
      "id": "PGnzS8Oc0Bve"
    },
    {
      "cell_type": "code",
      "source": [
        "# Define the length of the training data,(1024)\n",
        "train_data_length = int(math.pow(2, 10))\n",
        "\n",
        "# Create a tensor of shape (train_data_length, 2) filled with zeros\n",
        "train_data = torch.zeros((train_data_length, 2))\n",
        "\n",
        "# Generate random values between 0 and 2*pi and assign them to the first column of train_data\n",
        "train_data[:, 0] = 2 * math.pi * torch.rand(train_data_length)\n",
        "\n",
        "# Compute the sine of the values in the first column and assign them to the second column of train_data\n",
        "train_data[:, 1] = torch.sin(train_data[:, 0])\n",
        "\n",
        "# Create a tensor of zeros with length train_data_length to represent the labels\n",
        "train_labels = torch.zeros(train_data_length)\n",
        "\n",
        "# Create the training set as a list of tuples, where each tuple contains a data point and its corresponding label\n",
        "train_set = [\n",
        "    (train_data[i], train_labels[i]) for i in range(train_data_length)\n",
        "]"
      ],
      "metadata": {
        "id": "RsNKwOxD0DVP"
      },
      "id": "RsNKwOxD0DVP",
      "execution_count": null,
      "outputs": []
    },
    {
      "cell_type": "code",
      "source": [
        "plt.plot(train_data[:, 0], train_data[:, 1], \".\")"
      ],
      "metadata": {
        "colab": {
          "base_uri": "https://localhost:8080/",
          "height": 447
        },
        "id": "VQtrM3lA-c6U",
        "outputId": "78ada879-4dab-4d49-8d44-2087c4fcf590"
      },
      "id": "VQtrM3lA-c6U",
      "execution_count": null,
      "outputs": [
        {
          "output_type": "execute_result",
          "data": {
            "text/plain": [
              "[<matplotlib.lines.Line2D at 0x7f6182ffe950>]"
            ]
          },
          "metadata": {},
          "execution_count": 3
        },
        {
          "output_type": "display_data",
          "data": {
            "text/plain": [
              "<Figure size 640x480 with 1 Axes>"
            ],
            "image/png": "[encoded data removed]"
          },
          "metadata": {}
        }
      ]
    },
    {
      "cell_type": "code",
      "source": [
        "# Set the batch size for training\n",
        "batch_size = 32\n",
        "\n",
        "# Create a data loader for the training set\n",
        "train_loader = torch.utils.data.DataLoader(train_set, batch_size=batch_size, shuffle=True)"
      ],
      "metadata": {
        "id": "jtdwhB2_BcbN"
      },
      "id": "jtdwhB2_BcbN",
      "execution_count": null,
      "outputs": []
    },
    {
      "cell_type": "markdown",
      "source": [
        "## Implementing the Discriminator"
      ],
      "metadata": {
        "id": "m-Jj-IiBDorL"
      },
      "id": "m-Jj-IiBDorL"
    },
    {
      "cell_type": "code",
      "source": [
        "# Define a Discriminator class\n",
        "class Discriminator(nn.Module):\n",
        "    def __init__(self):\n",
        "        super().__init__()\n",
        "\n",
        "        # Define the model architecture\n",
        "        self.model = nn.Sequential(\n",
        "            nn.Linear(2, 256),  # Input layer: 2 input features, 256 output features\n",
        "            nn.ReLU(),  # ReLU activation function\n",
        "            nn.Dropout(0.3),  # Dropout layer with a dropout rate of 0.3, adds regularization to the model to avoid overfitting\n",
        "            nn.Linear(256, 128),  # Hidden layer: 256 input features, 128 output features\n",
        "            nn.ReLU(),  # ReLU activation function\n",
        "            nn.Dropout(0.3),  # Dropout layer with a dropout rate of 0.3\n",
        "            nn.Linear(128, 64),  # Hidden layer: 128 input features, 64 output features\n",
        "            nn.ReLU(),  # ReLU activation function\n",
        "            nn.Dropout(0.3),  # Dropout layer with a dropout rate of 0.3\n",
        "            nn.Linear(64, 1),  # Output layer: 64 input features, 1 output feature\n",
        "            nn.Sigmoid(),  # Sigmoid activation function to obtain the output in the range [0, 1]\n",
        "        )\n",
        "\n",
        "    def forward(self, x):\n",
        "        # Perform the forward pass through the model\n",
        "        output = self.model(x)\n",
        "        return output\n",
        "\n",
        "# Creates an instance of the Discriminator class and assigns it to the variable discriminator\n",
        "discriminator = Discriminator()"
      ],
      "metadata": {
        "id": "XbXFrJSyDrLz"
      },
      "id": "XbXFrJSyDrLz",
      "execution_count": null,
      "outputs": []
    },
    {
      "cell_type": "markdown",
      "source": [
        "## Implementing the Generator\n"
      ],
      "metadata": {
        "id": "mAW7u2TchdgH"
      },
      "id": "mAW7u2TchdgH"
    },
    {
      "cell_type": "code",
      "source": [
        "class Generator(nn.Module):\n",
        "    def __init__(self):\n",
        "        super().__init__()\n",
        "        self.model = nn.Sequential(\n",
        "            nn.Linear(2, 16),\n",
        "            nn.ReLU(),\n",
        "            nn.Linear(16, 32),\n",
        "            nn.ReLU(),\n",
        "            nn.Linear(32, 2),\n",
        "        )\n",
        "\n",
        "    def forward(self, x):\n",
        "        output = self.model(x)\n",
        "        return output\n",
        "\n",
        "generator = Generator()"
      ],
      "metadata": {
        "id": "IhCaRbr4hgxg"
      },
      "id": "IhCaRbr4hgxg",
      "execution_count": null,
      "outputs": []
    },
    {
      "cell_type": "markdown",
      "source": [
        "## Training the Models"
      ],
      "metadata": {
        "id": "fMXIFRJamKDx"
      },
      "id": "fMXIFRJamKDx"
    },
    {
      "cell_type": "code",
      "source": [
        "lr = 0.001 # Learning rate for the optimization algorithm\n",
        "num_epochs = 300 # Number of training epochs\n",
        "loss_function = nn.BCELoss() # Binary Cross Entropy Loss function\n",
        "\n",
        "\n",
        "# Use the Adam algorithm to train the discriminator and generator models\n",
        "optimizer_discriminator = torch.optim.Adam(discriminator.parameters(), lr=lr)\n",
        "optimizer_generator = torch.optim.Adam(generator.parameters(), lr=lr)\n",
        "\n",
        "# Implement a training loop in which training samples are fed to the models, and their weights are updated to minimize the loss function:\n",
        "\n",
        "for epoch in range(num_epochs):\n",
        "    for n, (real_samples, _) in enumerate(train_loader):\n",
        "        # Data for training the discriminator\n",
        "        real_samples_labels = torch.ones((batch_size, 1))\n",
        "        latent_space_samples = torch.randn((batch_size, 2))\n",
        "        generated_samples = generator(latent_space_samples)\n",
        "        generated_samples_labels = torch.zeros((batch_size, 1))\n",
        "        all_samples = torch.cat((real_samples, generated_samples))\n",
        "        all_samples_labels = torch.cat((real_samples_labels, generated_samples_labels))\n",
        "\n",
        "        # Training the discriminator\n",
        "        # It’s necessary to clear the gradients at each training step to avoid accumulating them\n",
        "        discriminator.zero_grad()\n",
        "        output_discriminator = discriminator(all_samples)\n",
        "        loss_discriminator = loss_function(output_discriminator, all_samples_labels)\n",
        "        # Calculate the gradients to update the weights with\n",
        "        loss_discriminator.backward()\n",
        "        # Update the discriminator weights by calling\n",
        "        optimizer_discriminator.step()\n",
        "\n",
        "        # Data for training the generator\n",
        "        latent_space_samples = torch.randn((batch_size, 2))\n",
        "\n",
        "        # Training the generator\n",
        "        # It’s necessary to clear the gradients at each training step to avoid accumulating them\n",
        "        generator.zero_grad()\n",
        "        generated_samples = generator(latent_space_samples)\n",
        "        output_discriminator_generated = discriminator(generated_samples)\n",
        "        loss_generator = loss_function(output_discriminator_generated, real_samples_labels)\n",
        "        loss_generator.backward()\n",
        "        optimizer_generator.step()\n",
        "\n",
        "        # Show loss.\n",
        "        # If the condition is met (every 10th epoch and last batch of the epoch), the discriminator and generator losses are printed.\n",
        "        if epoch % 10 == 0 and n == batch_size - 1:\n",
        "            print(f\"Epoch: {epoch}\")\n",
        "            print(f\"  Loss D.: {loss_discriminator}\")\n",
        "            print(f\"  Loss G.: {loss_generator} \\n\")\n",
        "\n",
        "        if epoch % 100 == 0 and n == batch_size - 1:\n",
        "            latent_space_samples = torch.randn(100, 2)\n",
        "            g_s = generator(latent_space_samples)\n",
        "            g_s = g_s.detach()\n",
        "            plt.plot(g_s[:, 0], g_s[:, 1], \".\")"
      ],
      "metadata": {
        "colab": {
          "base_uri": "https://localhost:8080/",
          "height": 1000
        },
        "id": "kelyDv8zmM4A",
        "outputId": "f25b280c-eb58-4dd9-a8f9-23e4151aeaa6"
      },
      "id": "kelyDv8zmM4A",
      "execution_count": null,
      "outputs": [
        {
          "output_type": "stream",
          "name": "stdout",
          "text": [
            "Epoch: 0\n",
            "  Loss D.: 0.2562105059623718\n",
            "  Loss G.: 2.6309471130371094 \n",
            "\n",
            "Epoch: 10\n",
            "  Loss D.: 0.6909171342849731\n",
            "  Loss G.: 0.8174402117729187 \n",
            "\n",
            "Epoch: 20\n",
            "  Loss D.: 0.5304688215255737\n",
            "  Loss G.: 0.9098911285400391 \n",
            "\n",
            "Epoch: 30\n",
            "  Loss D.: 0.7456434965133667\n",
            "  Loss G.: 0.6392508745193481 \n",
            "\n",
            "Epoch: 40\n",
            "  Loss D.: 0.7063282132148743\n",
            "  Loss G.: 0.7216967940330505 \n",
            "\n",
            "Epoch: 50\n",
            "  Loss D.: 0.6911537647247314\n",
            "  Loss G.: 0.7593062520027161 \n",
            "\n",
            "Epoch: 60\n",
            "  Loss D.: 0.70937180519104\n",
            "  Loss G.: 0.6376593708992004 \n",
            "\n",
            "Epoch: 70\n",
            "  Loss D.: 0.7154445648193359\n",
            "  Loss G.: 0.6306838989257812 \n",
            "\n",
            "Epoch: 80\n",
            "  Loss D.: 1.1214847564697266\n",
            "  Loss G.: 0.6299290657043457 \n",
            "\n",
            "Epoch: 90\n",
            "  Loss D.: 0.6410871744155884\n",
            "  Loss G.: 0.7430196404457092 \n",
            "\n",
            "Epoch: 100\n",
            "  Loss D.: 0.6858258843421936\n",
            "  Loss G.: 0.6566889882087708 \n",
            "\n",
            "Epoch: 110\n",
            "  Loss D.: 0.6528471112251282\n",
            "  Loss G.: 0.7498162984848022 \n",
            "\n",
            "Epoch: 120\n",
            "  Loss D.: 0.5000612735748291\n",
            "  Loss G.: 1.0352989435195923 \n",
            "\n",
            "Epoch: 130\n",
            "  Loss D.: 0.6296682357788086\n",
            "  Loss G.: 0.7826555967330933 \n",
            "\n",
            "Epoch: 140\n",
            "  Loss D.: 0.6570180058479309\n",
            "  Loss G.: 0.9387726783752441 \n",
            "\n",
            "Epoch: 150\n",
            "  Loss D.: 0.5493743419647217\n",
            "  Loss G.: 1.197763442993164 \n",
            "\n",
            "Epoch: 160\n",
            "  Loss D.: 0.6865360736846924\n",
            "  Loss G.: 0.8012760877609253 \n",
            "\n",
            "Epoch: 170\n",
            "  Loss D.: 0.7135280966758728\n",
            "  Loss G.: 1.0186926126480103 \n",
            "\n",
            "Epoch: 180\n",
            "  Loss D.: 0.6552796363830566\n",
            "  Loss G.: 0.8292071223258972 \n",
            "\n",
            "Epoch: 190\n",
            "  Loss D.: 0.6562679409980774\n",
            "  Loss G.: 0.7534012198448181 \n",
            "\n",
            "Epoch: 200\n",
            "  Loss D.: 0.6941782236099243\n",
            "  Loss G.: 0.8116231560707092 \n",
            "\n",
            "Epoch: 210\n",
            "  Loss D.: 0.6432458162307739\n",
            "  Loss G.: 0.7523150444030762 \n",
            "\n",
            "Epoch: 220\n",
            "  Loss D.: 0.6929547786712646\n",
            "  Loss G.: 0.8939628601074219 \n",
            "\n",
            "Epoch: 230\n",
            "  Loss D.: 0.645305871963501\n",
            "  Loss G.: 0.767551064491272 \n",
            "\n",
            "Epoch: 240\n",
            "  Loss D.: 0.6570784449577332\n",
            "  Loss G.: 0.7555199265480042 \n",
            "\n",
            "Epoch: 250\n",
            "  Loss D.: 0.659309983253479\n",
            "  Loss G.: 0.8719611167907715 \n",
            "\n",
            "Epoch: 260\n",
            "  Loss D.: 0.6532158851623535\n",
            "  Loss G.: 0.805511474609375 \n",
            "\n",
            "Epoch: 270\n",
            "  Loss D.: 0.6505407094955444\n",
            "  Loss G.: 1.0947823524475098 \n",
            "\n",
            "Epoch: 280\n",
            "  Loss D.: 0.642074704170227\n",
            "  Loss G.: 0.76645827293396 \n",
            "\n",
            "Epoch: 290\n",
            "  Loss D.: 0.6825675964355469\n",
            "  Loss G.: 0.7137101292610168 \n",
            "\n"
          ]
        },
        {
          "output_type": "display_data",
          "data": {
            "text/plain": [
              "<Figure size 640x480 with 1 Axes>"
            ],
            "image/png": "[encoded data removed]"
          },
          "metadata": {}
        }
      ]
    },
    {
      "cell_type": "markdown",
      "source": [
        "## Checking the Samples Generated by the GAN"
      ],
      "metadata": {
        "id": "0OjVx0yhWukJ"
      },
      "id": "0OjVx0yhWukJ"
    },
    {
      "cell_type": "code",
      "source": [
        "latent_space_samples = torch.randn(100, 2)\n",
        "generated_samples = generator(latent_space_samples)\n",
        "\n",
        "# To return a tensor from the PyTorch computational graph\n",
        "generated_samples = generated_samples.detach()\n",
        "plt.plot(generated_samples[:, 0], generated_samples[:, 1], \".\")"
      ],
      "metadata": {
        "colab": {
          "base_uri": "https://localhost:8080/",
          "height": 447
        },
        "id": "BkV3mzw7WxML",
        "outputId": "e8744550-f0e3-4642-b3d8-7db0f125505f"
      },
      "id": "BkV3mzw7WxML",
      "execution_count": null,
      "outputs": [
        {
          "output_type": "execute_result",
          "data": {
            "text/plain": [
              "[<matplotlib.lines.Line2D at 0x7f60b8883400>]"
            ]
          },
          "metadata": {},
          "execution_count": 39
        },
        {
          "output_type": "display_data",
          "data": {
            "text/plain": [
              "<Figure size 640x480 with 1 Axes>"
            ],
            "image/png": "[encoded data removed]"
          },
          "metadata": {}
        }
      ]
    },
    {
      "cell_type": "markdown",
      "source": [
        "# Handwritten Digits Generator With a GAN"
      ],
      "metadata": {
        "id": "sA-pStq3kqk2"
      },
      "id": "sA-pStq3kqk2"
    },
    {
      "cell_type": "markdown",
      "source": [
        "## Importing the necessary libraries"
      ],
      "metadata": {
        "id": "Djdgj8Qdk0Nj"
      },
      "id": "Djdgj8Qdk0Nj"
    },
    {
      "cell_type": "code",
      "source": [
        "import torch\n",
        "from torch import nn\n",
        "\n",
        "import math\n",
        "import matplotlib.pyplot as plt\n",
        "import torchvision\n",
        "import torchvision.transforms as transforms\n",
        "\n",
        "torch.manual_seed(111)"
      ],
      "metadata": {
        "colab": {
          "base_uri": "https://localhost:8080/"
        },
        "id": "Qujd1wTwkuUj",
        "outputId": "6059dc02-83a8-42a7-e146-aa12bfb8d8f1"
      },
      "id": "Qujd1wTwkuUj",
      "execution_count": 1,
      "outputs": [
        {
          "output_type": "execute_result",
          "data": {
            "text/plain": [
              "<torch._C.Generator at 0x78a1316cfb90>"
            ]
          },
          "metadata": {},
          "execution_count": 1
        }
      ]
    },
    {
      "cell_type": "markdown",
      "source": [
        "## Set Device"
      ],
      "metadata": {
        "id": "yFgP5LfTmqoV"
      },
      "id": "yFgP5LfTmqoV"
    },
    {
      "cell_type": "code",
      "source": [
        "device = \"\"\n",
        "if torch.cuda.is_available():\n",
        "  device = torch.device(\"cuda\")\n",
        "else:\n",
        "  device = torch.device(\"cpu\")\n",
        "\n",
        "print(device)"
      ],
      "metadata": {
        "colab": {
          "base_uri": "https://localhost:8080/"
        },
        "id": "KGgIlk_Smutc",
        "outputId": "c5bdc659-e577-44d3-dd1d-61c075e03f88"
      },
      "id": "KGgIlk_Smutc",
      "execution_count": 2,
      "outputs": [
        {
          "output_type": "stream",
          "name": "stdout",
          "text": [
            "cuda\n"
          ]
        }
      ]
    },
    {
      "cell_type": "markdown",
      "source": [
        "## Preparing the Training Data"
      ],
      "metadata": {
        "id": "JvHREoAvpZW1"
      },
      "id": "JvHREoAvpZW1"
    },
    {
      "cell_type": "markdown",
      "source": [
        "The MNIST dataset consists of 28 × 28 pixel grayscale images of handwritten digits from 0 to 9.\n",
        "\n",
        "It provided defines a transformation pipeline using the transforms.Compose function from the PyTorch library. This pipeline consists of two transformations applied sequentially to an input data sample.\n",
        "\n",
        "transforms.ToTensor(): This transformation converts the input data, which could be an image or a multi-dimensional array, into a PyTorch tensor. It essentially converts the data into a format that can be processed by PyTorch's tensor-based operations.\n",
        "\n",
        "transforms.Normalize((0.5,), (0.5,)): This transformation normalizes the input tensor by subtracting a mean value of 0.5 and dividing by a standard deviation of 0.5. Normalization is a common preprocessing step in deep learning that helps to stabilize and improve the convergence of models during training. By normalizing the data in this way, the pixel values of the input tensor will be centered around zero and have a range approximately between -1 and 1.\n",
        "\n",
        " It's important to ensure that the normalization parameters match the characteristics of the data you are working with. If your data has a different range or distribution, you may need to adjust the normalization parameters accordingly."
      ],
      "metadata": {
        "id": "bqz-Xjnq1Txb"
      },
      "id": "bqz-Xjnq1Txb"
    },
    {
      "cell_type": "code",
      "source": [
        "# transforms.ToTensor() converts the data to a PyTorch tensor.\n",
        "# transforms.Normalize() converts the range of the tensor coefficients.\n",
        "transform = transforms.Compose([transforms.ToTensor(), transforms.Normalize((0.5,), (0.5,))])"
      ],
      "metadata": {
        "id": "UYzfeXsQpf8r"
      },
      "id": "UYzfeXsQpf8r",
      "execution_count": 3,
      "outputs": []
    },
    {
      "cell_type": "code",
      "source": [
        "# Define the training dataset using the MNIST dataset from torchvision\n",
        "train_set = torchvision.datasets.MNIST(root=\".\", train=True, download=True, transform=transform)"
      ],
      "metadata": {
        "id": "-NcLv3ubs-Nj"
      },
      "id": "-NcLv3ubs-Nj",
      "execution_count": null,
      "outputs": []
    },
    {
      "cell_type": "code",
      "source": [
        "batch_size = 32\n",
        "train_loader = torch.utils.data.DataLoader(train_set, batch_size=batch_size, shuffle=True)"
      ],
      "metadata": {
        "id": "U6Ut0tnduy4D"
      },
      "id": "U6Ut0tnduy4D",
      "execution_count": 5,
      "outputs": []
    },
    {
      "cell_type": "code",
      "source": [
        "# Obtain a batch of real samples and their corresponding labels from the training loader\n",
        "real_samples, mnist_lable =  next(iter(train_loader))\n",
        "\n",
        "# Iterate over the first 16 samples in the batch\n",
        "for i in range(16):\n",
        "  ax = plt.subplot(4, 4, i+1)\n",
        "  plt.imshow(real_samples[i].reshape(28, 28), cmap=\"gray_r\")\n",
        "  plt.xticks([])\n",
        "  plt.yticks([])"
      ],
      "metadata": {
        "colab": {
          "base_uri": "https://localhost:8080/",
          "height": 406
        },
        "id": "e6unWvNsw_1U",
        "outputId": "b37dc76c-1026-4009-fdf1-412cc413d71e"
      },
      "id": "e6unWvNsw_1U",
      "execution_count": 6,
      "outputs": [
        {
          "output_type": "display_data",
          "data": {
            "text/plain": [
              "<Figure size 640x480 with 16 Axes>"
            ],
            "image/png": "[encoded data removed]"
          },
          "metadata": {}
        }
      ]
    },
    {
      "cell_type": "markdown",
      "source": [
        "## Implementing the Discriminator and the Generator"
      ],
      "metadata": {
        "id": "XVzK-mLa1bNT"
      },
      "id": "XVzK-mLa1bNT"
    },
    {
      "cell_type": "code",
      "source": [
        "# To input the image coefficients into the MLP neural network,\n",
        "# we vectorize them so that the neural network receives vectors with 784 coefficients.\n",
        "class Discriminator(nn.Module):\n",
        "    def __init__(self):\n",
        "        super().__init__()\n",
        "        self.model = nn.Sequential(\n",
        "            nn.Linear(784, 1024),\n",
        "            nn.ReLU(),\n",
        "            nn.Dropout(0.3),\n",
        "            nn.Linear(1024, 512),\n",
        "            nn.ReLU(),\n",
        "            nn.Dropout(0.3),\n",
        "            nn.Linear(512, 256),\n",
        "            nn.ReLU(),\n",
        "            nn.Dropout(0.3),\n",
        "            nn.Linear(256, 1),\n",
        "            nn.Sigmoid(),\n",
        "        )\n",
        "\n",
        "    def forward(self, x):\n",
        "        # Reshape the input tensor to match the desired size for further processing\n",
        "        # In this case, the original shape of the input x is 32 × 1 × 28 × 28, where 32 is the batch size\n",
        "        # After the conversion, the shape of x becomes 32 × 784, with each line representing the coefficients of an image of the training set.\n",
        "        x = x.view(x.size(0), 784)\n",
        "        output = self.model(x)\n",
        "        return output\n",
        "\n",
        "# Create an instance of the Discriminator model and move it to the specified device\n",
        "discriminator = Discriminator().to(device=device)"
      ],
      "metadata": {
        "id": "FAmCIJXH1fP7"
      },
      "id": "FAmCIJXH1fP7",
      "execution_count": 7,
      "outputs": []
    },
    {
      "cell_type": "markdown",
      "source": [
        "Since the generator is going to generate more complex data, it’s necessary to increase the dimensions of the input from the latent space."
      ],
      "metadata": {
        "id": "PzgJrJpK5Idj"
      },
      "id": "PzgJrJpK5Idj"
    },
    {
      "cell_type": "code",
      "source": [
        "class Generator(nn.Module):\n",
        "    def __init__(self):\n",
        "        super().__init__()\n",
        "        self.model = nn.Sequential(\n",
        "            nn.Linear(100, 256),\n",
        "            nn.ReLU(),\n",
        "            nn.Linear(256, 512),\n",
        "            nn.ReLU(),\n",
        "            nn.Linear(512, 1024),\n",
        "            nn.ReLU(),\n",
        "            nn.Linear(1024, 784),\n",
        "            # We use the hyperbolic tangent function Tanh() as the activation of the output layer since the output coefficients should be in the interval from -1 to 1.\n",
        "            nn.Tanh(),\n",
        "        )\n",
        "\n",
        "    def forward(self, x):\n",
        "        output = self.model(x)\n",
        "        output = output.view(x.size(0), 1, 28, 28)\n",
        "        return output\n",
        "\n",
        "# instantiate the generator and send it to device to use the GPU if one is available.\n",
        "generator = Generator().to(device=device)"
      ],
      "metadata": {
        "id": "VvXoRyYu5JEK"
      },
      "id": "VvXoRyYu5JEK",
      "execution_count": 8,
      "outputs": []
    },
    {
      "cell_type": "markdown",
      "source": [
        "## Training the Models"
      ],
      "metadata": {
        "id": "6BuT2vkC55xT"
      },
      "id": "6BuT2vkC55xT"
    },
    {
      "cell_type": "markdown",
      "source": [
        "To obtain a better result, we decrease the learning rate from the previous example. We also set the number of epochs to 50 to reduce the training time."
      ],
      "metadata": {
        "id": "tCCBbYIjQ6i8"
      },
      "id": "tCCBbYIjQ6i8"
    },
    {
      "cell_type": "code",
      "source": [
        "lr = 0.0001\n",
        "num_epochs = 50\n",
        "loss_function = nn.BCELoss()\n",
        "\n",
        "optimizer_discriminator = torch.optim.Adam(discriminator.parameters(), lr=lr)\n",
        "optimizer_generator = torch.optim.Adam(generator.parameters(), lr=lr)"
      ],
      "metadata": {
        "id": "vh_JOnnI59Lj"
      },
      "id": "vh_JOnnI59Lj",
      "execution_count": 10,
      "outputs": []
    },
    {
      "cell_type": "code",
      "source": [
        "from torch.optim import optimizer\n",
        "for epoch in range(num_epochs):\n",
        "  for n, (real_samples, mnist_lable) in enumerate(train_loader):\n",
        "    # Data for training the discriminator\n",
        "    real_samples = real_samples.to(device=device)\n",
        "    real_samples_labels = torch.ones((batch_size, 1)).to(device=device)\n",
        "    latent_space_samples = torch.randn((batch_size, 100)).to(device=device)\n",
        "    generated_samples = generator(latent_space_samples)\n",
        "    generated_samples_labels = torch.zeros((batch_size, 1)).to(device=device)\n",
        "    all_samples = torch.cat((real_samples, generated_samples))\n",
        "    all_samples_labels = torch.cat((real_samples_labels, generated_samples_labels))\n",
        "\n",
        "    # Training the discriminator\n",
        "    discriminator.zero_grad()\n",
        "    output_discriminator = discriminator(all_samples)\n",
        "    loss_discriminator = loss_function(output_discriminator, all_samples_labels)\n",
        "    loss_discriminator.backward()\n",
        "    optimizer_discriminator.step()\n",
        "\n",
        "    # Data for training the generator\n",
        "    latent_space_samples = torch.randn((batch_size, 100)).to(device=device)\n",
        "\n",
        "    # Training the generator\n",
        "    generator.zero_grad()\n",
        "    generated_samples = generator(latent_space_samples)\n",
        "    output_discriminator_generated = discriminator(generated_samples)\n",
        "    loss_generator = loss_function(output_discriminator_generated, real_samples_labels)\n",
        "    loss_generator.backward()\n",
        "    optimizer_generator.step()\n",
        "\n",
        "    # Show loss\n",
        "    if n == batch_size - 1:\n",
        "        print(f\"Epoch: {epoch} Loss D.: {loss_discriminator}\")\n",
        "        print(f\"Epoch: {epoch} Loss G.: {loss_generator}\")"
      ],
      "metadata": {
        "colab": {
          "base_uri": "https://localhost:8080/"
        },
        "id": "vcP3RD3dR7sk",
        "outputId": "cf7d4ed7-a04e-4f24-eb34-30e55eac8c29"
      },
      "id": "vcP3RD3dR7sk",
      "execution_count": 15,
      "outputs": [
        {
          "output_type": "stream",
          "name": "stdout",
          "text": [
            "Epoch: 0 Loss D.: 0.597377598285675\n",
            "Epoch: 0 Loss G.: 0.5269975662231445\n",
            "Epoch: 1 Loss D.: 0.03493417054414749\n",
            "Epoch: 1 Loss G.: 4.991497039794922\n",
            "Epoch: 2 Loss D.: 0.07691588997840881\n",
            "Epoch: 2 Loss G.: 6.032731056213379\n",
            "Epoch: 3 Loss D.: 0.03407103568315506\n",
            "Epoch: 3 Loss G.: 4.9261884689331055\n",
            "Epoch: 4 Loss D.: 0.044356342405080795\n",
            "Epoch: 4 Loss G.: 6.005374908447266\n",
            "Epoch: 5 Loss D.: 0.09653211385011673\n",
            "Epoch: 5 Loss G.: 4.942739486694336\n",
            "Epoch: 6 Loss D.: 0.14861424267292023\n",
            "Epoch: 6 Loss G.: 2.7828075885772705\n",
            "Epoch: 7 Loss D.: 0.19292135536670685\n",
            "Epoch: 7 Loss G.: 3.530221939086914\n",
            "Epoch: 8 Loss D.: 0.13446056842803955\n",
            "Epoch: 8 Loss G.: 3.0294504165649414\n",
            "Epoch: 9 Loss D.: 0.05503819137811661\n",
            "Epoch: 9 Loss G.: 3.0494117736816406\n",
            "Epoch: 10 Loss D.: 0.30942362546920776\n",
            "Epoch: 10 Loss G.: 2.1063270568847656\n",
            "Epoch: 11 Loss D.: 0.2588205933570862\n",
            "Epoch: 11 Loss G.: 2.253471612930298\n",
            "Epoch: 12 Loss D.: 0.3968667984008789\n",
            "Epoch: 12 Loss G.: 1.585597276687622\n",
            "Epoch: 13 Loss D.: 0.4385901093482971\n",
            "Epoch: 13 Loss G.: 1.625887155532837\n",
            "Epoch: 14 Loss D.: 0.4077886939048767\n",
            "Epoch: 14 Loss G.: 1.7432396411895752\n",
            "Epoch: 15 Loss D.: 0.3970583975315094\n",
            "Epoch: 15 Loss G.: 1.4981086254119873\n",
            "Epoch: 16 Loss D.: 0.35003364086151123\n",
            "Epoch: 16 Loss G.: 1.3510279655456543\n",
            "Epoch: 17 Loss D.: 0.42744579911231995\n",
            "Epoch: 17 Loss G.: 1.5241632461547852\n",
            "Epoch: 18 Loss D.: 0.4607617259025574\n",
            "Epoch: 18 Loss G.: 1.5781793594360352\n",
            "Epoch: 19 Loss D.: 0.39197683334350586\n",
            "Epoch: 19 Loss G.: 1.469836950302124\n",
            "Epoch: 20 Loss D.: 0.5855289697647095\n",
            "Epoch: 20 Loss G.: 1.3906502723693848\n",
            "Epoch: 21 Loss D.: 0.39564788341522217\n",
            "Epoch: 21 Loss G.: 1.3386300802230835\n",
            "Epoch: 22 Loss D.: 0.4541272521018982\n",
            "Epoch: 22 Loss G.: 1.2552518844604492\n",
            "Epoch: 23 Loss D.: 0.5342774391174316\n",
            "Epoch: 23 Loss G.: 1.300588846206665\n",
            "Epoch: 24 Loss D.: 0.5336581468582153\n",
            "Epoch: 24 Loss G.: 1.1495729684829712\n",
            "Epoch: 25 Loss D.: 0.5130411386489868\n",
            "Epoch: 25 Loss G.: 1.1379036903381348\n",
            "Epoch: 26 Loss D.: 0.5066478252410889\n",
            "Epoch: 26 Loss G.: 1.115375280380249\n",
            "Epoch: 27 Loss D.: 0.4543331563472748\n",
            "Epoch: 27 Loss G.: 0.9967531561851501\n",
            "Epoch: 28 Loss D.: 0.5851531028747559\n",
            "Epoch: 28 Loss G.: 1.151425838470459\n",
            "Epoch: 29 Loss D.: 0.5041285157203674\n",
            "Epoch: 29 Loss G.: 1.227694034576416\n",
            "Epoch: 30 Loss D.: 0.4963330030441284\n",
            "Epoch: 30 Loss G.: 1.1722323894500732\n",
            "Epoch: 31 Loss D.: 0.6685401201248169\n",
            "Epoch: 31 Loss G.: 1.3784854412078857\n",
            "Epoch: 32 Loss D.: 0.49700015783309937\n",
            "Epoch: 32 Loss G.: 1.1483581066131592\n",
            "Epoch: 33 Loss D.: 0.45660385489463806\n",
            "Epoch: 33 Loss G.: 0.9776254296302795\n",
            "Epoch: 34 Loss D.: 0.702140212059021\n",
            "Epoch: 34 Loss G.: 1.2297108173370361\n",
            "Epoch: 35 Loss D.: 0.5911209583282471\n",
            "Epoch: 35 Loss G.: 1.1289591789245605\n",
            "Epoch: 36 Loss D.: 0.5220415592193604\n",
            "Epoch: 36 Loss G.: 1.2186086177825928\n",
            "Epoch: 37 Loss D.: 0.5675264596939087\n",
            "Epoch: 37 Loss G.: 1.1290957927703857\n",
            "Epoch: 38 Loss D.: 0.5259225964546204\n",
            "Epoch: 38 Loss G.: 1.3144222497940063\n",
            "Epoch: 39 Loss D.: 0.5622864365577698\n",
            "Epoch: 39 Loss G.: 1.0152170658111572\n",
            "Epoch: 40 Loss D.: 0.579784631729126\n",
            "Epoch: 40 Loss G.: 0.9778096079826355\n",
            "Epoch: 41 Loss D.: 0.5683630704879761\n",
            "Epoch: 41 Loss G.: 1.1170169115066528\n",
            "Epoch: 42 Loss D.: 0.6262686848640442\n",
            "Epoch: 42 Loss G.: 1.191341519355774\n",
            "Epoch: 43 Loss D.: 0.5818530321121216\n",
            "Epoch: 43 Loss G.: 1.185995101928711\n",
            "Epoch: 44 Loss D.: 0.5842682719230652\n",
            "Epoch: 44 Loss G.: 0.9932643175125122\n",
            "Epoch: 45 Loss D.: 0.5899401903152466\n",
            "Epoch: 45 Loss G.: 1.0314428806304932\n",
            "Epoch: 46 Loss D.: 0.5263551473617554\n",
            "Epoch: 46 Loss G.: 1.148773193359375\n",
            "Epoch: 47 Loss D.: 0.5638761520385742\n",
            "Epoch: 47 Loss G.: 1.0892152786254883\n",
            "Epoch: 48 Loss D.: 0.46384894847869873\n",
            "Epoch: 48 Loss G.: 1.2082439661026\n",
            "Epoch: 49 Loss D.: 0.5906781554222107\n",
            "Epoch: 49 Loss G.: 1.2556443214416504\n"
          ]
        }
      ]
    }
  ],
  "metadata": {
    "colab": {
      "provenance": [],
      "collapsed_sections": [
        "XKBeM1ifysU4",
        "Q7KRN2xPD9EK",
        "PGnzS8Oc0Bve",
        "m-Jj-IiBDorL",
        "mAW7u2TchdgH",
        "fMXIFRJamKDx",
        "0OjVx0yhWukJ",
        "Djdgj8Qdk0Nj",
        "yFgP5LfTmqoV",
        "JvHREoAvpZW1",
        "XVzK-mLa1bNT"
      ],
      "gpuType": "T4",
      "include_colab_link": true
    },
    "language_info": {
      "name": "python"
    },
    "kernelspec": {
      "name": "python3",
      "display_name": "Python 3"
    },
    "accelerator": "GPU"
  },
  "nbformat": 4,
  "nbformat_minor": 5
}