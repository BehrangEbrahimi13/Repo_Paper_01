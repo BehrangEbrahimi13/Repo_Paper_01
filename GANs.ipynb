{
  "cells": [
    {
      "cell_type": "markdown",
      "metadata": {
        "id": "view-in-github",
        "colab_type": "text"
      },
      "source": [
        "<a href=\"https://colab.research.google.com/github/BehrangEbrahimi13/Repo_Paper_01/blob/GAN-experiments/GANs.ipynb\" target=\"_parent\"><img src=\"https://colab.research.google.com/assets/colab-badge.svg\" alt=\"Open In Colab\"/></a>"
      ]
    },
    {
      "cell_type": "markdown",
      "source": [
        "# Connections"
      ],
      "metadata": {
        "id": "XKBeM1ifysU4"
      },
      "id": "XKBeM1ifysU4"
    },
    {
      "cell_type": "code",
      "execution_count": null,
      "id": "b30a110a",
      "metadata": {
        "id": "b30a110a",
        "colab": {
          "base_uri": "https://localhost:8080/"
        },
        "outputId": "937a7f62-97c0-4eaa-8ebf-4caddd7a8e31"
      },
      "outputs": [
        {
          "output_type": "stream",
          "name": "stdout",
          "text": [
            "Mounted at /content/drive\n"
          ]
        }
      ],
      "source": [
        "from google.colab import drive\n",
        "drive.mount('/content/drive')\n",
        "\n",
        "import os\n",
        "os.chdir('/content/drive/MyDrive/ColabNotebooks/Papers')"
      ]
    },
    {
      "cell_type": "code",
      "execution_count": null,
      "id": "6695fcb2",
      "metadata": {
        "id": "6695fcb2",
        "colab": {
          "base_uri": "https://localhost:8080/"
        },
        "outputId": "22363825-f115-4ad3-b1f0-a33070ec25d9"
      },
      "outputs": [
        {
          "output_type": "stream",
          "name": "stdout",
          "text": [
            "Paper_01\n",
            "Repo_Paper_01\n",
            "Paper_FeatureSelection.ipynb\n",
            "GANs.ipynb\n"
          ]
        }
      ],
      "source": [
        "import os\n",
        "\n",
        "directory_path = '/content/drive/MyDrive/ColabNotebooks/Papers'\n",
        "\n",
        "# List all files and directories in the specified directory\n",
        "files = os.listdir(directory_path)\n",
        "\n",
        "# Print the list of files and directories\n",
        "for file in files:\n",
        "    print(file)"
      ]
    },
    {
      "cell_type": "markdown",
      "source": [
        "# Start implementation For x₂ = sin(x₁)"
      ],
      "metadata": {
        "id": "oTY_70zMyvZ4"
      },
      "id": "oTY_70zMyvZ4"
    },
    {
      "cell_type": "markdown",
      "source": [
        "## Importing the necessary libraries"
      ],
      "metadata": {
        "id": "Q7KRN2xPD9EK"
      },
      "id": "Q7KRN2xPD9EK"
    },
    {
      "cell_type": "code",
      "source": [
        "import torch\n",
        "from torch import nn\n",
        "\n",
        "import math\n",
        "import matplotlib.pyplot as plt\n",
        "\n",
        "# Set the random seed for torch\n",
        "torch.manual_seed(111)"
      ],
      "metadata": {
        "colab": {
          "base_uri": "https://localhost:8080/"
        },
        "id": "QhYTU-uhzPiF",
        "outputId": "ad150c69-a922-4212-c936-06f3740bf29d"
      },
      "id": "QhYTU-uhzPiF",
      "execution_count": null,
      "outputs": [
        {
          "output_type": "execute_result",
          "data": {
            "text/plain": [
              "<torch._C.Generator at 0x7f6181ae3750>"
            ]
          },
          "metadata": {},
          "execution_count": 1
        }
      ]
    },
    {
      "cell_type": "markdown",
      "source": [
        "## Preparing the Training Data"
      ],
      "metadata": {
        "id": "PGnzS8Oc0Bve"
      },
      "id": "PGnzS8Oc0Bve"
    },
    {
      "cell_type": "code",
      "source": [
        "# Define the length of the training data,(1024)\n",
        "train_data_length = int(math.pow(2, 10))\n",
        "\n",
        "# Create a tensor of shape (train_data_length, 2) filled with zeros\n",
        "train_data = torch.zeros((train_data_length, 2))\n",
        "\n",
        "# Generate random values between 0 and 2*pi and assign them to the first column of train_data\n",
        "train_data[:, 0] = 2 * math.pi * torch.rand(train_data_length)\n",
        "\n",
        "# Compute the sine of the values in the first column and assign them to the second column of train_data\n",
        "train_data[:, 1] = torch.sin(train_data[:, 0])\n",
        "\n",
        "# Create a tensor of zeros with length train_data_length to represent the labels\n",
        "train_labels = torch.zeros(train_data_length)\n",
        "\n",
        "# Create the training set as a list of tuples, where each tuple contains a data point and its corresponding label\n",
        "train_set = [\n",
        "    (train_data[i], train_labels[i]) for i in range(train_data_length)\n",
        "]"
      ],
      "metadata": {
        "id": "RsNKwOxD0DVP"
      },
      "id": "RsNKwOxD0DVP",
      "execution_count": null,
      "outputs": []
    },
    {
      "cell_type": "code",
      "source": [
        "plt.plot(train_data[:, 0], train_data[:, 1], \".\")"
      ],
      "metadata": {
        "colab": {
          "base_uri": "https://localhost:8080/",
          "height": 447
        },
        "id": "VQtrM3lA-c6U",
        "outputId": "78ada879-4dab-4d49-8d44-2087c4fcf590"
      },
      "id": "VQtrM3lA-c6U",
      "execution_count": null,
      "outputs": [
        {
          "output_type": "execute_result",
          "data": {
            "text/plain": [
              "[<matplotlib.lines.Line2D at 0x7f6182ffe950>]"
            ]
          },
          "metadata": {},
          "execution_count": 3
        },
        {
          "output_type": "display_data",
          "data": {
            "text/plain": [
              "<Figure size 640x480 with 1 Axes>"
            ],
            "image/png": "[encoded data removed]"
          },
          "metadata": {}
        }
      ]
    },
    {
      "cell_type": "code",
      "source": [
        "# Set the batch size for training\n",
        "batch_size = 32\n",
        "\n",
        "# Create a data loader for the training set\n",
        "train_loader = torch.utils.data.DataLoader(train_set, batch_size=batch_size, shuffle=True)"
      ],
      "metadata": {
        "id": "jtdwhB2_BcbN"
      },
      "id": "jtdwhB2_BcbN",
      "execution_count": null,
      "outputs": []
    },
    {
      "cell_type": "markdown",
      "source": [
        "## Implementing the Discriminator"
      ],
      "metadata": {
        "id": "m-Jj-IiBDorL"
      },
      "id": "m-Jj-IiBDorL"
    },
    {
      "cell_type": "code",
      "source": [
        "# Define a Discriminator class\n",
        "class Discriminator(nn.Module):\n",
        "    def __init__(self):\n",
        "        super().__init__()\n",
        "\n",
        "        # Define the model architecture\n",
        "        self.model = nn.Sequential(\n",
        "            nn.Linear(2, 256),  # Input layer: 2 input features, 256 output features\n",
        "            nn.ReLU(),  # ReLU activation function\n",
        "            nn.Dropout(0.3),  # Dropout layer with a dropout rate of 0.3, adds regularization to the model to avoid overfitting\n",
        "            nn.Linear(256, 128),  # Hidden layer: 256 input features, 128 output features\n",
        "            nn.ReLU(),  # ReLU activation function\n",
        "            nn.Dropout(0.3),  # Dropout layer with a dropout rate of 0.3\n",
        "            nn.Linear(128, 64),  # Hidden layer: 128 input features, 64 output features\n",
        "            nn.ReLU(),  # ReLU activation function\n",
        "            nn.Dropout(0.3),  # Dropout layer with a dropout rate of 0.3\n",
        "            nn.Linear(64, 1),  # Output layer: 64 input features, 1 output feature\n",
        "            nn.Sigmoid(),  # Sigmoid activation function to obtain the output in the range [0, 1]\n",
        "        )\n",
        "\n",
        "    def forward(self, x):\n",
        "        # Perform the forward pass through the model\n",
        "        output = self.model(x)\n",
        "        return output\n",
        "\n",
        "# Creates an instance of the Discriminator class and assigns it to the variable discriminator\n",
        "discriminator = Discriminator()"
      ],
      "metadata": {
        "id": "XbXFrJSyDrLz"
      },
      "id": "XbXFrJSyDrLz",
      "execution_count": null,
      "outputs": []
    },
    {
      "cell_type": "markdown",
      "source": [
        "## Implementing the Generator\n"
      ],
      "metadata": {
        "id": "mAW7u2TchdgH"
      },
      "id": "mAW7u2TchdgH"
    },
    {
      "cell_type": "code",
      "source": [
        "class Generator(nn.Module):\n",
        "    def __init__(self):\n",
        "        super().__init__()\n",
        "        self.model = nn.Sequential(\n",
        "            nn.Linear(2, 16),\n",
        "            nn.ReLU(),\n",
        "            nn.Linear(16, 32),\n",
        "            nn.ReLU(),\n",
        "            nn.Linear(32, 2),\n",
        "        )\n",
        "\n",
        "    def forward(self, x):\n",
        "        output = self.model(x)\n",
        "        return output\n",
        "\n",
        "generator = Generator()"
      ],
      "metadata": {
        "id": "IhCaRbr4hgxg"
      },
      "id": "IhCaRbr4hgxg",
      "execution_count": null,
      "outputs": []
    },
    {
      "cell_type": "markdown",
      "source": [
        "## Training the Models"
      ],
      "metadata": {
        "id": "fMXIFRJamKDx"
      },
      "id": "fMXIFRJamKDx"
    },
    {
      "cell_type": "code",
      "source": [
        "lr = 0.001 # Learning rate for the optimization algorithm\n",
        "num_epochs = 300 # Number of training epochs\n",
        "loss_function = nn.BCELoss() # Binary Cross Entropy Loss function\n",
        "\n",
        "\n",
        "# Use the Adam algorithm to train the discriminator and generator models\n",
        "optimizer_discriminator = torch.optim.Adam(discriminator.parameters(), lr=lr)\n",
        "optimizer_generator = torch.optim.Adam(generator.parameters(), lr=lr)\n",
        "\n",
        "# Implement a training loop in which training samples are fed to the models, and their weights are updated to minimize the loss function:\n",
        "\n",
        "for epoch in range(num_epochs):\n",
        "    for n, (real_samples, _) in enumerate(train_loader):\n",
        "        # Data for training the discriminator\n",
        "        real_samples_labels = torch.ones((batch_size, 1))\n",
        "        latent_space_samples = torch.randn((batch_size, 2))\n",
        "        generated_samples = generator(latent_space_samples)\n",
        "        generated_samples_labels = torch.zeros((batch_size, 1))\n",
        "        all_samples = torch.cat((real_samples, generated_samples))\n",
        "        all_samples_labels = torch.cat((real_samples_labels, generated_samples_labels))\n",
        "\n",
        "        # Training the discriminator\n",
        "        # It’s necessary to clear the gradients at each training step to avoid accumulating them\n",
        "        discriminator.zero_grad()\n",
        "        output_discriminator = discriminator(all_samples)\n",
        "        loss_discriminator = loss_function(output_discriminator, all_samples_labels)\n",
        "        # Calculate the gradients to update the weights with\n",
        "        loss_discriminator.backward()\n",
        "        # Update the discriminator weights by calling\n",
        "        optimizer_discriminator.step()\n",
        "\n",
        "        # Data for training the generator\n",
        "        latent_space_samples = torch.randn((batch_size, 2))\n",
        "\n",
        "        # Training the generator\n",
        "        # It’s necessary to clear the gradients at each training step to avoid accumulating them\n",
        "        generator.zero_grad()\n",
        "        generated_samples = generator(latent_space_samples)\n",
        "        output_discriminator_generated = discriminator(generated_samples)\n",
        "        loss_generator = loss_function(output_discriminator_generated, real_samples_labels)\n",
        "        loss_generator.backward()\n",
        "        optimizer_generator.step()\n",
        "\n",
        "        # Show loss.\n",
        "        # If the condition is met (every 10th epoch and last batch of the epoch), the discriminator and generator losses are printed.\n",
        "        if epoch % 10 == 0 and n == batch_size - 1:\n",
        "            print(f\"Epoch: {epoch}\")\n",
        "            print(f\"  Loss D.: {loss_discriminator}\")\n",
        "            print(f\"  Loss G.: {loss_generator} \\n\")\n",
        "\n",
        "        if epoch % 100 == 0 and n == batch_size - 1:\n",
        "            latent_space_samples = torch.randn(100, 2)\n",
        "            g_s = generator(latent_space_samples)\n",
        "            g_s = g_s.detach()\n",
        "            plt.plot(g_s[:, 0], g_s[:, 1], \".\")"
      ],
      "metadata": {
        "colab": {
          "base_uri": "https://localhost:8080/",
          "height": 1000
        },
        "id": "kelyDv8zmM4A",
        "outputId": "f25b280c-eb58-4dd9-a8f9-23e4151aeaa6"
      },
      "id": "kelyDv8zmM4A",
      "execution_count": null,
      "outputs": [
        {
          "output_type": "stream",
          "name": "stdout",
          "text": [
            "Epoch: 0\n",
            "  Loss D.: 0.2562105059623718\n",
            "  Loss G.: 2.6309471130371094 \n",
            "\n",
            "Epoch: 10\n",
            "  Loss D.: 0.6909171342849731\n",
            "  Loss G.: 0.8174402117729187 \n",
            "\n",
            "Epoch: 20\n",
            "  Loss D.: 0.5304688215255737\n",
            "  Loss G.: 0.9098911285400391 \n",
            "\n",
            "Epoch: 30\n",
            "  Loss D.: 0.7456434965133667\n",
            "  Loss G.: 0.6392508745193481 \n",
            "\n",
            "Epoch: 40\n",
            "  Loss D.: 0.7063282132148743\n",
            "  Loss G.: 0.7216967940330505 \n",
            "\n",
            "Epoch: 50\n",
            "  Loss D.: 0.6911537647247314\n",
            "  Loss G.: 0.7593062520027161 \n",
            "\n",
            "Epoch: 60\n",
            "  Loss D.: 0.70937180519104\n",
            "  Loss G.: 0.6376593708992004 \n",
            "\n",
            "Epoch: 70\n",
            "  Loss D.: 0.7154445648193359\n",
            "  Loss G.: 0.6306838989257812 \n",
            "\n",
            "Epoch: 80\n",
            "  Loss D.: 1.1214847564697266\n",
            "  Loss G.: 0.6299290657043457 \n",
            "\n",
            "Epoch: 90\n",
            "  Loss D.: 0.6410871744155884\n",
            "  Loss G.: 0.7430196404457092 \n",
            "\n",
            "Epoch: 100\n",
            "  Loss D.: 0.6858258843421936\n",
            "  Loss G.: 0.6566889882087708 \n",
            "\n",
            "Epoch: 110\n",
            "  Loss D.: 0.6528471112251282\n",
            "  Loss G.: 0.7498162984848022 \n",
            "\n",
            "Epoch: 120\n",
            "  Loss D.: 0.5000612735748291\n",
            "  Loss G.: 1.0352989435195923 \n",
            "\n",
            "Epoch: 130\n",
            "  Loss D.: 0.6296682357788086\n",
            "  Loss G.: 0.7826555967330933 \n",
            "\n",
            "Epoch: 140\n",
            "  Loss D.: 0.6570180058479309\n",
            "  Loss G.: 0.9387726783752441 \n",
            "\n",
            "Epoch: 150\n",
            "  Loss D.: 0.5493743419647217\n",
            "  Loss G.: 1.197763442993164 \n",
            "\n",
            "Epoch: 160\n",
            "  Loss D.: 0.6865360736846924\n",
            "  Loss G.: 0.8012760877609253 \n",
            "\n",
            "Epoch: 170\n",
            "  Loss D.: 0.7135280966758728\n",
            "  Loss G.: 1.0186926126480103 \n",
            "\n",
            "Epoch: 180\n",
            "  Loss D.: 0.6552796363830566\n",
            "  Loss G.: 0.8292071223258972 \n",
            "\n",
            "Epoch: 190\n",
            "  Loss D.: 0.6562679409980774\n",
            "  Loss G.: 0.7534012198448181 \n",
            "\n",
            "Epoch: 200\n",
            "  Loss D.: 0.6941782236099243\n",
            "  Loss G.: 0.8116231560707092 \n",
            "\n",
            "Epoch: 210\n",
            "  Loss D.: 0.6432458162307739\n",
            "  Loss G.: 0.7523150444030762 \n",
            "\n",
            "Epoch: 220\n",
            "  Loss D.: 0.6929547786712646\n",
            "  Loss G.: 0.8939628601074219 \n",
            "\n",
            "Epoch: 230\n",
            "  Loss D.: 0.645305871963501\n",
            "  Loss G.: 0.767551064491272 \n",
            "\n",
            "Epoch: 240\n",
            "  Loss D.: 0.6570784449577332\n",
            "  Loss G.: 0.7555199265480042 \n",
            "\n",
            "Epoch: 250\n",
            "  Loss D.: 0.659309983253479\n",
            "  Loss G.: 0.8719611167907715 \n",
            "\n",
            "Epoch: 260\n",
            "  Loss D.: 0.6532158851623535\n",
            "  Loss G.: 0.805511474609375 \n",
            "\n",
            "Epoch: 270\n",
            "  Loss D.: 0.6505407094955444\n",
            "  Loss G.: 1.0947823524475098 \n",
            "\n",
            "Epoch: 280\n",
            "  Loss D.: 0.642074704170227\n",
            "  Loss G.: 0.76645827293396 \n",
            "\n",
            "Epoch: 290\n",
            "  Loss D.: 0.6825675964355469\n",
            "  Loss G.: 0.7137101292610168 \n",
            "\n"
          ]
        },
        {
          "output_type": "display_data",
          "data": {
            "text/plain": [
              "<Figure size 640x480 with 1 Axes>"
            ],
            "image/png": "[encoded data removed]"
          },
          "metadata": {}
        }
      ]
    },
    {
      "cell_type": "markdown",
      "source": [
        "## Checking the Samples Generated by the GAN"
      ],
      "metadata": {
        "id": "0OjVx0yhWukJ"
      },
      "id": "0OjVx0yhWukJ"
    },
    {
      "cell_type": "code",
      "source": [
        "latent_space_samples = torch.randn(100, 2)\n",
        "generated_samples = generator(latent_space_samples)\n",
        "\n",
        "# To return a tensor from the PyTorch computational graph\n",
        "generated_samples = generated_samples.detach()\n",
        "plt.plot(generated_samples[:, 0], generated_samples[:, 1], \".\")"
      ],
      "metadata": {
        "colab": {
          "base_uri": "https://localhost:8080/",
          "height": 447
        },
        "id": "BkV3mzw7WxML",
        "outputId": "e8744550-f0e3-4642-b3d8-7db0f125505f"
      },
      "id": "BkV3mzw7WxML",
      "execution_count": null,
      "outputs": [
        {
          "output_type": "execute_result",
          "data": {
            "text/plain": [
              "[<matplotlib.lines.Line2D at 0x7f60b8883400>]"
            ]
          },
          "metadata": {},
          "execution_count": 39
        },
        {
          "output_type": "display_data",
          "data": {
            "text/plain": [
              "<Figure size 640x480 with 1 Axes>"
            ],
            "image/png": "[encoded data removed]"
          },
          "metadata": {}
        }
      ]
    },
    {
      "cell_type": "markdown",
      "source": [
        "# Handwritten Digits Generator With a GAN"
      ],
      "metadata": {
        "id": "sA-pStq3kqk2"
      },
      "id": "sA-pStq3kqk2"
    },
    {
      "cell_type": "markdown",
      "source": [
        "## Importing the necessary libraries"
      ],
      "metadata": {
        "id": "Djdgj8Qdk0Nj"
      },
      "id": "Djdgj8Qdk0Nj"
    },
    {
      "cell_type": "code",
      "source": [
        "import torch\n",
        "from torch import nn\n",
        "\n",
        "import math\n",
        "import matplotlib.pyplot as plt\n",
        "import torchvision\n",
        "import torchvision.transforms as transforms\n",
        "\n",
        "torch.manual_seed(111)"
      ],
      "metadata": {
        "colab": {
          "base_uri": "https://localhost:8080/"
        },
        "id": "Qujd1wTwkuUj",
        "outputId": "30603356-f578-4a25-8310-153d8da42a8b"
      },
      "id": "Qujd1wTwkuUj",
      "execution_count": null,
      "outputs": [
        {
          "output_type": "execute_result",
          "data": {
            "text/plain": [
              "<torch._C.Generator at 0x7ed3b63bbaf0>"
            ]
          },
          "metadata": {},
          "execution_count": 1
        }
      ]
    },
    {
      "cell_type": "markdown",
      "source": [
        "## Set Device"
      ],
      "metadata": {
        "id": "yFgP5LfTmqoV"
      },
      "id": "yFgP5LfTmqoV"
    },
    {
      "cell_type": "code",
      "source": [
        "device = \"\"\n",
        "if torch.cuda.is_available():\n",
        "  device = torch.device(\"cuda\")\n",
        "else:\n",
        "  device = torch.device(\"cpu\")\n",
        "\n",
        "print(device)"
      ],
      "metadata": {
        "colab": {
          "base_uri": "https://localhost:8080/"
        },
        "id": "KGgIlk_Smutc",
        "outputId": "f06dec4a-1d53-4a62-ec3a-413f52391b07"
      },
      "id": "KGgIlk_Smutc",
      "execution_count": 23,
      "outputs": [
        {
          "output_type": "stream",
          "name": "stdout",
          "text": [
            "cuda\n"
          ]
        }
      ]
    },
    {
      "cell_type": "markdown",
      "source": [
        "## Preparing the Training Data"
      ],
      "metadata": {
        "id": "JvHREoAvpZW1"
      },
      "id": "JvHREoAvpZW1"
    },
    {
      "cell_type": "markdown",
      "source": [
        "The MNIST dataset consists of 28 × 28 pixel grayscale images of handwritten digits from 0 to 9.\n",
        "\n",
        "It provided defines a transformation pipeline using the transforms.Compose function from the PyTorch library. This pipeline consists of two transformations applied sequentially to an input data sample.\n",
        "\n",
        "transforms.ToTensor(): This transformation converts the input data, which could be an image or a multi-dimensional array, into a PyTorch tensor. It essentially converts the data into a format that can be processed by PyTorch's tensor-based operations.\n",
        "\n",
        "transforms.Normalize((0.5,), (0.5,)): This transformation normalizes the input tensor by subtracting a mean value of 0.5 and dividing by a standard deviation of 0.5. Normalization is a common preprocessing step in deep learning that helps to stabilize and improve the convergence of models during training. By normalizing the data in this way, the pixel values of the input tensor will be centered around zero and have a range approximately between -1 and 1.\n",
        "\n",
        " It's important to ensure that the normalization parameters match the characteristics of the data you are working with. If your data has a different range or distribution, you may need to adjust the normalization parameters accordingly."
      ],
      "metadata": {
        "id": "bqz-Xjnq1Txb"
      },
      "id": "bqz-Xjnq1Txb"
    },
    {
      "cell_type": "code",
      "source": [
        "# transforms.ToTensor() converts the data to a PyTorch tensor.\n",
        "# transforms.Normalize() converts the range of the tensor coefficients.\n",
        "transform = transforms.Compose([transforms.ToTensor(), transforms.Normalize((0.5,), (0.5,))])"
      ],
      "metadata": {
        "id": "UYzfeXsQpf8r"
      },
      "id": "UYzfeXsQpf8r",
      "execution_count": null,
      "outputs": []
    },
    {
      "cell_type": "code",
      "source": [
        "# Define the training dataset using the MNIST dataset from torchvision\n",
        "train_set = torchvision.datasets.MNIST(root=\".\", train=True, download=True, transform=transform)"
      ],
      "metadata": {
        "colab": {
          "base_uri": "https://localhost:8080/"
        },
        "id": "-NcLv3ubs-Nj",
        "outputId": "b9770166-fe04-4fec-e518-25306ea9a86f"
      },
      "id": "-NcLv3ubs-Nj",
      "execution_count": null,
      "outputs": [
        {
          "output_type": "stream",
          "name": "stdout",
          "text": [
            "Downloading http://yann.lecun.com/exdb/mnist/train-images-idx3-ubyte.gz\n",
            "Downloading http://yann.lecun.com/exdb/mnist/train-images-idx3-ubyte.gz to ./MNIST/raw/train-images-idx3-ubyte.gz\n"
          ]
        },
        {
          "output_type": "stream",
          "name": "stderr",
          "text": [
            "100%|██████████| 9912422/9912422 [00:00<00:00, 130321169.95it/s]"
          ]
        },
        {
          "output_type": "stream",
          "name": "stdout",
          "text": [
            "Extracting ./MNIST/raw/train-images-idx3-ubyte.gz to ./MNIST/raw\n"
          ]
        },
        {
          "output_type": "stream",
          "name": "stderr",
          "text": [
            "\n"
          ]
        },
        {
          "output_type": "stream",
          "name": "stdout",
          "text": [
            "\n",
            "Downloading http://yann.lecun.com/exdb/mnist/train-labels-idx1-ubyte.gz\n",
            "Downloading http://yann.lecun.com/exdb/mnist/train-labels-idx1-ubyte.gz to ./MNIST/raw/train-labels-idx1-ubyte.gz\n"
          ]
        },
        {
          "output_type": "stream",
          "name": "stderr",
          "text": [
            "100%|██████████| 28881/28881 [00:00<00:00, 40800166.33it/s]\n"
          ]
        },
        {
          "output_type": "stream",
          "name": "stdout",
          "text": [
            "Extracting ./MNIST/raw/train-labels-idx1-ubyte.gz to ./MNIST/raw\n",
            "\n",
            "Downloading http://yann.lecun.com/exdb/mnist/t10k-images-idx3-ubyte.gz\n",
            "Downloading http://yann.lecun.com/exdb/mnist/t10k-images-idx3-ubyte.gz to ./MNIST/raw/t10k-images-idx3-ubyte.gz\n"
          ]
        },
        {
          "output_type": "stream",
          "name": "stderr",
          "text": [
            "100%|██████████| 1648877/1648877 [00:00<00:00, 35723686.67it/s]\n"
          ]
        },
        {
          "output_type": "stream",
          "name": "stdout",
          "text": [
            "Extracting ./MNIST/raw/t10k-images-idx3-ubyte.gz to ./MNIST/raw\n",
            "\n",
            "Downloading http://yann.lecun.com/exdb/mnist/t10k-labels-idx1-ubyte.gz\n",
            "Downloading http://yann.lecun.com/exdb/mnist/t10k-labels-idx1-ubyte.gz to ./MNIST/raw/t10k-labels-idx1-ubyte.gz\n"
          ]
        },
        {
          "output_type": "stream",
          "name": "stderr",
          "text": [
            "100%|██████████| 4542/4542 [00:00<00:00, 5531512.42it/s]\n"
          ]
        },
        {
          "output_type": "stream",
          "name": "stdout",
          "text": [
            "Extracting ./MNIST/raw/t10k-labels-idx1-ubyte.gz to ./MNIST/raw\n",
            "\n"
          ]
        }
      ]
    },
    {
      "cell_type": "code",
      "source": [
        "batch_size = 32\n",
        "train_loader = torch.utils.data.DataLoader(train_set, batch_size=batch_size, shuffle=True)"
      ],
      "metadata": {
        "id": "U6Ut0tnduy4D"
      },
      "id": "U6Ut0tnduy4D",
      "execution_count": null,
      "outputs": []
    },
    {
      "cell_type": "code",
      "source": [
        "# Obtain a batch of real samples and their corresponding labels from the training loader\n",
        "real_samples, mnist_lable =  next(iter(train_loader))\n",
        "\n",
        "# Iterate over the first 16 samples in the batch\n",
        "for i in range(16):\n",
        "  ax = plt.subplot(4, 4, i+1)\n",
        "  plt.imshow(real_samples[i].reshape(28, 28), cmap=\"gray_r\")\n",
        "  plt.xticks([])\n",
        "  plt.yticks([])"
      ],
      "metadata": {
        "colab": {
          "base_uri": "https://localhost:8080/",
          "height": 406
        },
        "id": "e6unWvNsw_1U",
        "outputId": "2d0bf483-8ef5-4796-ce7a-74432aa2adb0"
      },
      "id": "e6unWvNsw_1U",
      "execution_count": 22,
      "outputs": [
        {
          "output_type": "display_data",
          "data": {
            "text/plain": [
              "<Figure size 640x480 with 16 Axes>"
            ],
            "image/png": "[encoded data removed]"
          },
          "metadata": {}
        }
      ]
    },
    {
      "cell_type": "markdown",
      "source": [
        "## Implementing the Discriminator and the Generator"
      ],
      "metadata": {
        "id": "XVzK-mLa1bNT"
      },
      "id": "XVzK-mLa1bNT"
    },
    {
      "cell_type": "code",
      "source": [
        "# To input the image coefficients into the MLP neural network,\n",
        "# we vectorize them so that the neural network receives vectors with 784 coefficients.\n",
        "class Discriminator(nn.Module):\n",
        "    def __init__(self):\n",
        "        super().__init__()\n",
        "        self.model = nn.Sequential(\n",
        "            nn.Linear(784, 1024),\n",
        "            nn.ReLU(),\n",
        "            nn.Dropout(0.3),\n",
        "            nn.Linear(1024, 512),\n",
        "            nn.ReLU(),\n",
        "            nn.Dropout(0.3),\n",
        "            nn.Linear(512, 256),\n",
        "            nn.ReLU(),\n",
        "            nn.Dropout(0.3),\n",
        "            nn.Linear(256, 1),\n",
        "            nn.Sigmoid(),\n",
        "        )\n",
        "\n",
        "    def forward(self, x):\n",
        "        # Reshape the input tensor to match the desired size for further processing\n",
        "        # In this case, the original shape of the input x is 32 × 1 × 28 × 28, where 32 is the batch size\n",
        "        # After the conversion, the shape of x becomes 32 × 784, with each line representing the coefficients of an image of the training set.\n",
        "        x = x.view(x.size(0), 784)\n",
        "        output = self.model(x)\n",
        "        return output\n",
        "\n",
        "# Create an instance of the Discriminator model and move it to the specified device\n",
        "discriminator = Discriminator().to(device=device)"
      ],
      "metadata": {
        "id": "FAmCIJXH1fP7"
      },
      "id": "FAmCIJXH1fP7",
      "execution_count": 25,
      "outputs": []
    },
    {
      "cell_type": "markdown",
      "source": [
        "Since the generator is going to generate more complex data, it’s necessary to increase the dimensions of the input from the latent space."
      ],
      "metadata": {
        "id": "PzgJrJpK5Idj"
      },
      "id": "PzgJrJpK5Idj"
    },
    {
      "cell_type": "code",
      "source": [
        "class Generator(nn.Module):\n",
        "    def __init__(self):\n",
        "        super().__init__()\n",
        "        self.model = nn.Sequential(\n",
        "            nn.Linear(100, 256),\n",
        "            nn.ReLU(),\n",
        "            nn.Linear(256, 512),\n",
        "            nn.ReLU(),\n",
        "            nn.Linear(512, 1024),\n",
        "            nn.ReLU(),\n",
        "            nn.Linear(1024, 784),\n",
        "            # We use the hyperbolic tangent function Tanh() as the activation of the output layer since the output coefficients should be in the interval from -1 to 1.\n",
        "            nn.Tanh(),\n",
        "        )\n",
        "\n",
        "    def forward(self, x):\n",
        "        output = self.model(x)\n",
        "        output = output.view(x.size(0), 1, 28, 28)\n",
        "        return output\n",
        "\n",
        "# instantiate the generator and send it to device to use the GPU if one is available.\n",
        "generator = Generator().to(device=device)"
      ],
      "metadata": {
        "id": "VvXoRyYu5JEK"
      },
      "id": "VvXoRyYu5JEK",
      "execution_count": 29,
      "outputs": []
    }
  ],
  "metadata": {
    "colab": {
      "provenance": [],
      "collapsed_sections": [
        "XKBeM1ifysU4",
        "oTY_70zMyvZ4",
        "Q7KRN2xPD9EK",
        "PGnzS8Oc0Bve",
        "m-Jj-IiBDorL",
        "mAW7u2TchdgH",
        "fMXIFRJamKDx",
        "0OjVx0yhWukJ",
        "Djdgj8Qdk0Nj",
        "yFgP5LfTmqoV",
        "JvHREoAvpZW1"
      ],
      "gpuType": "T4",
      "include_colab_link": true
    },
    "language_info": {
      "name": "python"
    },
    "kernelspec": {
      "name": "python3",
      "display_name": "Python 3"
    },
    "accelerator": "GPU"
  },
  "nbformat": 4,
  "nbformat_minor": 5
}